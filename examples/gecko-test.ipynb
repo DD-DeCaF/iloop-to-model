{
 "cells": [
  {
   "cell_type": "markdown",
   "metadata": {
    "deletable": true,
    "editable": true
   },
   "source": [
    "# Trying GECKO TMY"
   ]
  },
  {
   "cell_type": "code",
   "execution_count": 50,
   "metadata": {
    "collapsed": true,
    "deletable": true,
    "editable": true
   },
   "outputs": [],
   "source": [
    "# Live\n",
    "i2m_url = 'https://api.dd-decaf.eu'\n",
    "header = {'Authorization': ''}"
   ]
  },
  {
   "cell_type": "code",
   "execution_count": 58,
   "metadata": {
    "collapsed": true,
    "deletable": true,
    "editable": true
   },
   "outputs": [],
   "source": [
    "# Locally\n",
    "i2m_url = 'http://10.16.141.232:7000'\n",
    "m_url = 'http://10.16.141.232:8000'\n",
    "header = {'Authorization': ''}"
   ]
  },
  {
   "cell_type": "code",
   "execution_count": 2,
   "metadata": {
    "collapsed": true,
    "deletable": true,
    "editable": true
   },
   "outputs": [],
   "source": [
    "import requests\n",
    "import pandas\n",
    "from cobra.io import model_from_dict"
   ]
  },
  {
   "cell_type": "markdown",
   "metadata": {
    "deletable": true,
    "editable": true,
    "heading_collapsed": true
   },
   "source": [
    "## GECKO1"
   ]
  },
  {
   "cell_type": "code",
   "execution_count": 4,
   "metadata": {
    "collapsed": true,
    "deletable": true,
    "editable": true,
    "hidden": true
   },
   "outputs": [],
   "source": [
    "sample_payload = {'sampleIds': [44], 'phaseId': 5, 'modelId': 'ecYeast7'}"
   ]
  },
  {
   "cell_type": "code",
   "execution_count": 5,
   "metadata": {
    "collapsed": false,
    "deletable": true,
    "editable": true,
    "hidden": true
   },
   "outputs": [
    {
     "data": {
      "text/plain": [
       "{'response': [{'id': 5, 'name': 'car'},\n",
       "  {'id': 4, 'name': 'MD121_W3110'},\n",
       "  {'id': 3, 'name': 'MD120_BW25113'},\n",
       "  {'id': 2, 'name': 'MD066_BW25113'},\n",
       "  {'id': 1, 'name': 'MD004_MG1655'}]}"
      ]
     },
     "execution_count": 5,
     "metadata": {},
     "output_type": "execute_result"
    }
   ],
   "source": [
    "requests.get(i2m_url + '/experiments', headers=header).json()"
   ]
  },
  {
   "cell_type": "code",
   "execution_count": 19,
   "metadata": {
    "collapsed": true,
    "deletable": true,
    "editable": true,
    "hidden": true
   },
   "outputs": [],
   "source": [
    "r = requests.post(i2m_url + '/data-adjusted/model', json=sample_payload, headers=header)"
   ]
  },
  {
   "cell_type": "code",
   "execution_count": 22,
   "metadata": {
    "collapsed": true,
    "deletable": true,
    "editable": true,
    "hidden": true
   },
   "outputs": [],
   "source": [
    "m = model_from_dict(r.json()['response'][str(sample_payload['phaseId'])]['model']) "
   ]
  },
  {
   "cell_type": "code",
   "execution_count": 23,
   "metadata": {
    "collapsed": false,
    "deletable": true,
    "editable": true,
    "hidden": true
   },
   "outputs": [
    {
     "data": {
      "text/html": [
       "\n",
       "        <table>\n",
       "            <tr>\n",
       "                <td><strong>Name</strong></td>\n",
       "                <td>ecYeast7</td>\n",
       "            </tr><tr>\n",
       "                <td><strong>Memory address</strong></td>\n",
       "                <td>0x01193e7fd0</td>\n",
       "            </tr><tr>\n",
       "                <td><strong>Number of metabolites</strong></td>\n",
       "                <td>3437</td>\n",
       "            </tr><tr>\n",
       "                <td><strong>Number of reactions</strong></td>\n",
       "                <td>6812</td>\n",
       "            </tr><tr>\n",
       "                <td><strong>Objective expression</strong></td>\n",
       "                <td>-1.0*r_2111_reverse_58b69 + 1.0*r_2111</td>\n",
       "            </tr><tr>\n",
       "                <td><strong>Compartments</strong></td>\n",
       "                <td>cell envelope, cytoplasm, extracellular, mitochondrion, nucleus, peroxisome, endoplasmic reticulum, golgi, lipid particle, vacuole, endoplasmic reticulum membrane, vacuolar membrane, golgi membrane, mitochondrial membrane</td>\n",
       "            </tr>\n",
       "          </table>"
      ],
      "text/plain": [
       "<Model ecYeast7 at 0x1193e7fd0>"
      ]
     },
     "execution_count": 23,
     "metadata": {},
     "output_type": "execute_result"
    }
   ],
   "source": [
    "m"
   ]
  },
  {
   "cell_type": "code",
   "execution_count": 11,
   "metadata": {
    "collapsed": true,
    "deletable": true,
    "editable": true,
    "hidden": true
   },
   "outputs": [],
   "source": [
    "from cameo import phenotypic_phase_plane"
   ]
  },
  {
   "cell_type": "code",
   "execution_count": 18,
   "metadata": {
    "collapsed": false,
    "deletable": true,
    "editable": true,
    "hidden": true
   },
   "outputs": [
    {
     "data": {
      "text/html": [
       "\n",
       "        <table>\n",
       "            <tr>\n",
       "                <td><strong>Reaction identifier</strong></td><td>r_2111</td>\n",
       "            </tr><tr>\n",
       "                <td><strong>Name</strong></td><td>growth</td>\n",
       "            </tr><tr>\n",
       "                <td><strong>Memory address</strong></td>\n",
       "                <td>0x011298f668</td>\n",
       "            </tr><tr>\n",
       "                <td><strong>Stoichiometry</strong></td>\n",
       "                <td>\n",
       "                    <p style='text-align:right'>s_0450_c --> </p>\n",
       "                    <p style='text-align:right'>biomass --> </p>\n",
       "                </td>\n",
       "            </tr><tr>\n",
       "                <td><strong>GPR</strong></td><td></td>\n",
       "            </tr><tr>\n",
       "                <td><strong>Lower bound</strong></td><td>0.0</td>\n",
       "            </tr><tr>\n",
       "                <td><strong>Upper bound</strong></td><td>1000.0</td>\n",
       "            </tr>\n",
       "        </table>\n",
       "        "
      ],
      "text/plain": [
       "<Reaction r_2111 at 0x11298f668>"
      ]
     },
     "execution_count": 18,
     "metadata": {},
     "output_type": "execute_result"
    }
   ],
   "source": [
    "m.reactions.r_2111"
   ]
  },
  {
   "cell_type": "code",
   "execution_count": 25,
   "metadata": {
    "collapsed": true,
    "deletable": true,
    "editable": true,
    "hidden": true
   },
   "outputs": [],
   "source": [
    "with m:\n",
    "    m.reactions.DM_MNXM614_e.bounds = 0, 1000\n",
    "    m.reactions.r_1714_REV.bounds = 0, 1000\n",
    "    pp = phenotypic_phase_plane(m, m.reactions.r_2111, objective=m.reactions.DM_MNXM614_e,\n",
    "                                source=m.reactions.r_1714_REV)"
   ]
  },
  {
   "cell_type": "code",
   "execution_count": 55,
   "metadata": {
    "collapsed": false,
    "deletable": true,
    "editable": true,
    "hidden": true
   },
   "outputs": [
    {
     "data": {
      "text/plain": [
       "{'CHEBI': ['CHEBI:17579',\n",
       "  'CHEBI:10355',\n",
       "  'CHEBI:12392',\n",
       "  'CHEBI:22834',\n",
       "  'CHEBI:40987'],\n",
       " 'InChI': 'InChI=1S/C40H56/c1-31(19-13-21-33(3)25-27-37-35(5)23-15-29-39(37,7)8)17-11-12-18-32(2)20-14-22-34(4)26-28-38-36(6)24-16-30-40(38,9)10/h11-14,17-22,25-28H,15-16,23-24,29-30H2,1-10H3/b12-11+,19-13+,20-14+,27-25+,28-26+,31-17+,32-18+,33-21+,34-22+',\n",
       " 'SMILES': 'C\\\\C(\\\\C=C\\\\C=C(/C)\\\\C=C\\\\C1=C(C)CCCC1(C)C)=C/C=C/C=C(\\\\C)/C=C/C=C(\\\\C)/C=C/C1=C(C)CCCC1(C)C',\n",
       " 'bigg.metabolite': [],\n",
       " 'charge': '0',\n",
       " 'formula': 'C40H56',\n",
       " 'mass': '536.8726',\n",
       " 'metanetx.chemical': ['MNXM614'],\n",
       " 'name': 'all-trans-beta-carotene',\n",
       " 'source': 'chebi:17579'}"
      ]
     },
     "execution_count": 55,
     "metadata": {},
     "output_type": "execute_result"
    }
   ],
   "source": [
    "m.metabolites.MNXM614_e.annotation"
   ]
  },
  {
   "cell_type": "code",
   "execution_count": 28,
   "metadata": {
    "collapsed": false,
    "deletable": true,
    "editable": true,
    "hidden": true
   },
   "outputs": [
    {
     "data": {
      "text/plain": [
       "<matplotlib.axes._subplots.AxesSubplot at 0x11476ba20>"
      ]
     },
     "execution_count": 28,
     "metadata": {},
     "output_type": "execute_result"
    },
    {
     "data": {
      "image/png": "[encoded data removed]",
      "text/plain": [
       "<matplotlib.figure.Figure at 0x11477a780>"
      ]
     },
     "metadata": {},
     "output_type": "display_data"
    }
   ],
   "source": [
    "pp.data_frame.plot.line('r_2111', 'objective_upper_bound')"
   ]
  },
  {
   "cell_type": "code",
   "execution_count": 52,
   "metadata": {
    "collapsed": true,
    "deletable": true,
    "editable": true,
    "hidden": true
   },
   "outputs": [],
   "source": [
    "tmylr = requests.post(i2m_url + '/data-adjusted/maximum-yield', json=sample_payload, headers=header)"
   ]
  },
  {
   "cell_type": "code",
   "execution_count": 46,
   "metadata": {
    "collapsed": false,
    "deletable": true,
    "editable": true,
    "hidden": true
   },
   "outputs": [
    {
     "data": {
      "text/plain": [
       "{'flux': [0.0007],\n",
       " 'phasePlanes': {'modified': {'objective': [0.0,\n",
       "    0.0008526792241588848,\n",
       "    0.0017053584483177695,\n",
       "    0.002558037672476654,\n",
       "    0.003410716896635539,\n",
       "    0.004263396120794424,\n",
       "    0.005116075344953308,\n",
       "    0.005968754569112194,\n",
       "    0.006821433793271078,\n",
       "    0.007674113017429963,\n",
       "    0.008526792241588848,\n",
       "    0.009379471465747732,\n",
       "    0.010232150689906617,\n",
       "    0.011084829914065501,\n",
       "    0.011937509138224387,\n",
       "    0.012790188362383272,\n",
       "    0.013642867586542156,\n",
       "    0.01449554681070104,\n",
       "    0.015348226034859925,\n",
       "    0.01620090525901881],\n",
       "   'objectiveId': 'DM_MNXM614_e',\n",
       "   'objectiveLowerBound': [0.0,\n",
       "    0.0,\n",
       "    -6.185566845057971e-17,\n",
       "    -1.4716276782987028e-16,\n",
       "    -1.471318292299193e-16,\n",
       "    0.0,\n",
       "    4.114273882808807e-18,\n",
       "    0.0,\n",
       "    0.0,\n",
       "    -2.3547377165916173e-18,\n",
       "    -5.371862877222273e-16,\n",
       "    2.3354419491917694e-16,\n",
       "    4.897854450510564e-16,\n",
       "    7.032816646886964e-16,\n",
       "    2.6791682464331295e-16,\n",
       "    -2.0411161049998472e-18,\n",
       "    1.8370044944998628e-17,\n",
       "    0.0,\n",
       "    -4.0822322099996944e-18,\n",
       "    -4.0822322099996944e-18],\n",
       "   'objectiveUpperBound': [0.37056201987865556,\n",
       "    0.3555084496885548,\n",
       "    0.3404534131410739,\n",
       "    0.32539837659359977,\n",
       "    0.31034334004611996,\n",
       "    0.2952883023728559,\n",
       "    0.2802332660969713,\n",
       "    0.26517822982108485,\n",
       "    0.25012319354520196,\n",
       "    0.2334992790196721,\n",
       "    0.21577319771826198,\n",
       "    0.19713805691937503,\n",
       "    0.17249579980445331,\n",
       "    0.14785354268953066,\n",
       "    0.12321128557461268,\n",
       "    0.09856902845969004,\n",
       "    0.07392677134476734,\n",
       "    0.049284794778384766,\n",
       "    0.02464239738919258,\n",
       "    -2.8371513859497877e-16]}}}"
      ]
     },
     "execution_count": 46,
     "metadata": {},
     "output_type": "execute_result"
    }
   ],
   "source": [
    "tmylr.json()['response']['21']['metabolites']['beta-carotene']"
   ]
  },
  {
   "cell_type": "markdown",
   "metadata": {
    "deletable": true,
    "editable": true
   },
   "source": [
    "## GECKO proteomics"
   ]
  },
  {
   "cell_type": "code",
   "execution_count": 24,
   "metadata": {
    "collapsed": true,
    "deletable": true,
    "editable": true
   },
   "outputs": [],
   "source": [
    "sample_payload = {'sampleIds': [44], 'phaseId': 5, 'modelId': 'ecYeast7_proteomics'}"
   ]
  },
  {
   "cell_type": "code",
   "execution_count": 55,
   "metadata": {
    "collapsed": true,
    "deletable": true,
    "editable": true
   },
   "outputs": [],
   "source": [
    "r = requests.post(i2m_url + '/data-adjusted/model', json=sample_payload, headers=header)"
   ]
  },
  {
   "cell_type": "code",
   "execution_count": 39,
   "metadata": {
    "collapsed": true,
    "deletable": true,
    "editable": true
   },
   "outputs": [],
   "source": [
    "m = model_from_dict(r.json()['response'][str(sample_payload['phaseId'])]['model']) "
   ]
  },
  {
   "cell_type": "code",
   "execution_count": 40,
   "metadata": {
    "collapsed": false,
    "deletable": true,
    "editable": true
   },
   "outputs": [
    {
     "data": {
      "text/html": [
       "\n",
       "        <table>\n",
       "            <tr>\n",
       "                <td><strong>Name</strong></td>\n",
       "                <td>ecYeast7_proteomics</td>\n",
       "            </tr><tr>\n",
       "                <td><strong>Memory address</strong></td>\n",
       "                <td>0x012091b978</td>\n",
       "            </tr><tr>\n",
       "                <td><strong>Number of metabolites</strong></td>\n",
       "                <td>3437</td>\n",
       "            </tr><tr>\n",
       "                <td><strong>Number of reactions</strong></td>\n",
       "                <td>6812</td>\n",
       "            </tr><tr>\n",
       "                <td><strong>Objective expression</strong></td>\n",
       "                <td>1.0*r_1714_REV_reverse_2665e - 1.0*r_1714_REV</td>\n",
       "            </tr><tr>\n",
       "                <td><strong>Compartments</strong></td>\n",
       "                <td>cell envelope, cytoplasm, extracellular, mitochondrion, nucleus, peroxisome, endoplasmic reticulum, golgi, lipid particle, vacuole, endoplasmic reticulum membrane, vacuolar membrane, golgi membrane, mitochondrial membrane</td>\n",
       "            </tr>\n",
       "          </table>"
      ],
      "text/plain": [
       "<Model ecYeast7_proteomics at 0x12091b978>"
      ]
     },
     "execution_count": 40,
     "metadata": {},
     "output_type": "execute_result"
    }
   ],
   "source": [
    "m"
   ]
  },
  {
   "cell_type": "code",
   "execution_count": 41,
   "metadata": {
    "collapsed": false,
    "deletable": true,
    "editable": true
   },
   "outputs": [
    {
     "data": {
      "text/plain": [
       "990"
      ]
     },
     "execution_count": 41,
     "metadata": {},
     "output_type": "execute_result"
    }
   ],
   "source": [
    "len(m.notes['changes']['measured-missing']['reactions'])"
   ]
  },
  {
   "cell_type": "code",
   "execution_count": 42,
   "metadata": {
    "collapsed": false,
    "deletable": true,
    "editable": true
   },
   "outputs": [
    {
     "data": {
      "text/html": [
       "\n",
       "        <table>\n",
       "            <tr>\n",
       "                <td><strong>Reaction identifier</strong></td><td>prot_P00044_exchange</td>\n",
       "            </tr><tr>\n",
       "                <td><strong>Name</strong></td><td>prot_P00044_exchange</td>\n",
       "            </tr><tr>\n",
       "                <td><strong>Memory address</strong></td>\n",
       "                <td>0x0121370860</td>\n",
       "            </tr><tr>\n",
       "                <td><strong>Stoichiometry</strong></td>\n",
       "                <td>\n",
       "                    <p style='text-align:right'> --> prot_P00044_c</p>\n",
       "                    <p style='text-align:right'> --> prot_P00044</p>\n",
       "                </td>\n",
       "            </tr><tr>\n",
       "                <td><strong>GPR</strong></td><td></td>\n",
       "            </tr><tr>\n",
       "                <td><strong>Lower bound</strong></td><td>0</td>\n",
       "            </tr><tr>\n",
       "                <td><strong>Upper bound</strong></td><td>1.72252357406386e-05</td>\n",
       "            </tr>\n",
       "        </table>\n",
       "        "
      ],
      "text/plain": [
       "<Reaction prot_P00044_exchange at 0x121370860>"
      ]
     },
     "execution_count": 42,
     "metadata": {},
     "output_type": "execute_result"
    }
   ],
   "source": [
    "m.reactions.prot_P00044_exchange"
   ]
  },
  {
   "cell_type": "code",
   "execution_count": 44,
   "metadata": {
    "collapsed": false,
    "deletable": true,
    "editable": true
   },
   "outputs": [
    {
     "data": {
      "text/html": [
       "\n",
       "        <table>\n",
       "            <tr>\n",
       "                <td><strong>Reaction identifier</strong></td><td>r_1714_REV</td>\n",
       "            </tr><tr>\n",
       "                <td><strong>Name</strong></td><td>D-glucose exchange (reversible)</td>\n",
       "            </tr><tr>\n",
       "                <td><strong>Memory address</strong></td>\n",
       "                <td>0x01216d4a58</td>\n",
       "            </tr><tr>\n",
       "                <td><strong>Stoichiometry</strong></td>\n",
       "                <td>\n",
       "                    <p style='text-align:right'> --> s_0565_e</p>\n",
       "                    <p style='text-align:right'> --> D-glucose</p>\n",
       "                </td>\n",
       "            </tr><tr>\n",
       "                <td><strong>GPR</strong></td><td></td>\n",
       "            </tr><tr>\n",
       "                <td><strong>Lower bound</strong></td><td>1.0</td>\n",
       "            </tr><tr>\n",
       "                <td><strong>Upper bound</strong></td><td>1.0</td>\n",
       "            </tr>\n",
       "        </table>\n",
       "        "
      ],
      "text/plain": [
       "<Reaction r_1714_REV at 0x1216d4a58>"
      ]
     },
     "execution_count": 44,
     "metadata": {},
     "output_type": "execute_result"
    }
   ],
   "source": [
    "m.reactions.r_1714_REV"
   ]
  },
  {
   "cell_type": "code",
   "execution_count": 98,
   "metadata": {
    "collapsed": true,
    "deletable": true,
    "editable": true
   },
   "outputs": [],
   "source": [
    "tmylr = requests.post(i2m_url + '/data-adjusted/maximum-yield', json=sample_payload, headers=header)"
   ]
  },
  {
   "cell_type": "code",
   "execution_count": 99,
   "metadata": {
    "collapsed": false,
    "deletable": true,
    "editable": true
   },
   "outputs": [
    {
     "data": {
      "text/plain": [
       "{'response': {'5': {'growthRate': [0.05],\n",
       "   'metabolites': {'aldehydo-D-glucose': {'flux': [-1.0],\n",
       "     'phasePlanes': {'modified': {'objective': [0.034104196440170986,\n",
       "        0.3752866940097543,\n",
       "        0.7164691915793375,\n",
       "        1.057651689148921,\n",
       "        1.3988341867185041,\n",
       "        1.7400166842880873,\n",
       "        2.081199181857671,\n",
       "        2.422381679427254,\n",
       "        2.7635641769968373,\n",
       "        3.1047466745664205,\n",
       "        3.4459291721360037,\n",
       "        3.7871116697055873,\n",
       "        4.128294167275171,\n",
       "        4.469476664844754,\n",
       "        4.810659162414337,\n",
       "        5.15184165998392,\n",
       "        5.493024157553504,\n",
       "        5.834206655123087,\n",
       "        6.17538915269267,\n",
       "        6.516571650262254],\n",
       "       'objectiveId': 'r_1714_REV',\n",
       "       'objectiveLowerBound': [-0.034104196440170986,\n",
       "        -0.3752866940097543,\n",
       "        -0.7164691915793375,\n",
       "        -1.057651689148921,\n",
       "        -1.3988341867185041,\n",
       "        -1.7400166842880873,\n",
       "        -2.081199181857671,\n",
       "        -2.422381679427254,\n",
       "        -2.7635641769968373,\n",
       "        -3.1047466745664205,\n",
       "        -3.4459291721360037,\n",
       "        -3.7871116697055873,\n",
       "        -4.128294167275171,\n",
       "        -4.469476664844754,\n",
       "        -4.810659162414337,\n",
       "        -5.15184165998392,\n",
       "        -5.493024157553504,\n",
       "        -5.834206655123087,\n",
       "        -6.17538915269267,\n",
       "        -6.516571650262254],\n",
       "       'objectiveUpperBound': [-0.034104196440170986,\n",
       "        -0.3752866940097543,\n",
       "        -0.7164691915793375,\n",
       "        -1.057651689148921,\n",
       "        -1.3988341867185041,\n",
       "        -1.7400166842880873,\n",
       "        -2.081199181857671,\n",
       "        -2.422381679427254,\n",
       "        -2.7635641769968373,\n",
       "        -3.1047466745664205,\n",
       "        -3.4459291721360037,\n",
       "        -3.7871116697055873,\n",
       "        -4.128294167275171,\n",
       "        -4.469476664844754,\n",
       "        -4.810659162414337,\n",
       "        -5.15184165998392,\n",
       "        -5.493024157553504,\n",
       "        -5.834206655123087,\n",
       "        -6.17538915269267,\n",
       "        -6.516571650262254]},\n",
       "      'wild': {'objective': [0.03410419454665847,\n",
       "        0.3752866922158987,\n",
       "        0.716469189885139,\n",
       "        1.057651687554379,\n",
       "        1.3988341852236195,\n",
       "        1.7400166828928598,\n",
       "        2.0811991805620997,\n",
       "        2.42238167823134,\n",
       "        2.7635641759005805,\n",
       "        3.104746673569821,\n",
       "        3.445929171239061,\n",
       "        3.787111668908301,\n",
       "        4.1282941665775414,\n",
       "        4.469476664246782,\n",
       "        4.810659161916021,\n",
       "        5.151841659585262,\n",
       "        5.493024157254503,\n",
       "        5.834206654923742,\n",
       "        6.175389152592983,\n",
       "        6.516571650262223],\n",
       "       'objectiveId': 'r_1714_REV',\n",
       "       'objectiveLowerBound': [-0.03410419454665847,\n",
       "        -0.3752866922158987,\n",
       "        -0.716469189885139,\n",
       "        -1.057651687554379,\n",
       "        -1.3988341852236195,\n",
       "        -1.7400166828928598,\n",
       "        -2.0811991805620997,\n",
       "        -2.42238167823134,\n",
       "        -2.7635641759005805,\n",
       "        -3.104746673569821,\n",
       "        -3.445929171239061,\n",
       "        -3.787111668908301,\n",
       "        -4.1282941665775414,\n",
       "        -4.469476664246782,\n",
       "        -4.810659161916021,\n",
       "        -5.151841659585262,\n",
       "        -5.493024157254503,\n",
       "        -5.834206654923742,\n",
       "        -6.175389152592983,\n",
       "        -6.516571650262223],\n",
       "       'objectiveUpperBound': [-0.03410419454665847,\n",
       "        -0.3752866922158987,\n",
       "        -0.716469189885139,\n",
       "        -1.057651687554379,\n",
       "        -1.3988341852236195,\n",
       "        -1.7400166828928598,\n",
       "        -2.0811991805620997,\n",
       "        -2.42238167823134,\n",
       "        -2.7635641759005805,\n",
       "        -3.104746673569821,\n",
       "        -3.445929171239061,\n",
       "        -3.787111668908301,\n",
       "        -4.1282941665775414,\n",
       "        -4.469476664246782,\n",
       "        -4.810659161916021,\n",
       "        -5.151841659585262,\n",
       "        -5.493024157254503,\n",
       "        -5.834206654923742,\n",
       "        -6.175389152592983,\n",
       "        -6.516571650262223]}}},\n",
       "    'beta-carotene': {'flux': [0.0007],\n",
       "     'phasePlanes': {'modified': {'objective': [0.0,\n",
       "        3.262076598702196e-05,\n",
       "        6.524153197404393e-05,\n",
       "        9.786229796106589e-05,\n",
       "        0.00013048306394808785,\n",
       "        0.0001631038299351098,\n",
       "        0.00019572459592213178,\n",
       "        0.00022834536190915374,\n",
       "        0.0002609661278961757,\n",
       "        0.0002935868938831977,\n",
       "        0.0003262076598702196,\n",
       "        0.00035882842585724156,\n",
       "        0.00039144919184426355,\n",
       "        0.00042406995783128554,\n",
       "        0.0004566907238183075,\n",
       "        0.0004893114898053294,\n",
       "        0.0005219322557923514,\n",
       "        0.0005545530217793734,\n",
       "        0.0005871737877663954,\n",
       "        0.0006197945537534173],\n",
       "       'objectiveId': 'DM_MNXM614_e',\n",
       "       'objectiveLowerBound': [-6.516571650262248,\n",
       "        -6.509701404150976,\n",
       "        -6.500260331093448,\n",
       "        -6.49083164608918,\n",
       "        -6.481402961084896,\n",
       "        -6.471974276080634,\n",
       "        -6.462585108439489,\n",
       "        -6.453116906072123,\n",
       "        -6.443688221067849,\n",
       "        -6.434289934035217,\n",
       "        -6.424858209233784,\n",
       "        -6.415402166055055,\n",
       "        -6.405994759630946,\n",
       "        -6.396563034829523,\n",
       "        -6.387131310028082,\n",
       "        -6.377699585226665,\n",
       "        -6.368286717185084,\n",
       "        -6.35884870679703,\n",
       "        -6.3494106964090005,\n",
       "        -6.339972686020954],\n",
       "       'objectiveUpperBound': [-0.03410419644017165,\n",
       "        -0.034439736427793105,\n",
       "        -0.034775276415414856,\n",
       "        -0.03511081640303701,\n",
       "        -0.03544635639065842,\n",
       "        -0.035781896378280206,\n",
       "        -0.03611743636590178,\n",
       "        -0.03645297635352372,\n",
       "        -0.03678851634114428,\n",
       "        -0.037124056328763755,\n",
       "        -0.037459596316388975,\n",
       "        -0.03779513630401082,\n",
       "        -0.038130676291632394,\n",
       "        -0.03846621627925406,\n",
       "        -0.038801756266875584,\n",
       "        -0.03913729625449785,\n",
       "        -0.03947283624211911,\n",
       "        -0.039808376229742454,\n",
       "        -0.04014391621736276,\n",
       "        -0.04047945620498444]}}}}}}}"
      ]
     },
     "execution_count": 99,
     "metadata": {},
     "output_type": "execute_result"
    }
   ],
   "source": [
    "tmylr.json()"
   ]
  }
 ],
 "metadata": {
  "kernelspec": {
   "display_name": "Python 3",
   "language": "python",
   "name": "python3"
  },
  "language_info": {
   "codemirror_mode": {
    "name": "ipython",
    "version": 3
   },
   "file_extension": ".py",
   "mimetype": "text/x-python",
   "name": "python",
   "nbconvert_exporter": "python",
   "pygments_lexer": "ipython3",
   "version": "3.5.2"
  }
 },
 "nbformat": 4,
 "nbformat_minor": 2
}
