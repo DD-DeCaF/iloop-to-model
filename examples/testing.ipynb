{
 "cells": [
  {
   "cell_type": "markdown",
   "metadata": {
    "deletable": true,
    "editable": true
   },
   "source": [
    "# live"
   ]
  },
  {
   "cell_type": "code",
   "execution_count": 23,
   "metadata": {
    "collapsed": true,
    "deletable": true,
    "editable": true
   },
   "outputs": [],
   "source": [
    "import requests\n",
    "import pandas\n",
    "i2m_url = 'https://api.dd-decaf.eu'\n",
    "m_url = 'http://10.16.130.35:8000'\n",
    "header = {'Authorization': ''}"
   ]
  },
  {
   "cell_type": "markdown",
   "metadata": {
    "deletable": true,
    "editable": true
   },
   "source": [
    "# local"
   ]
  },
  {
   "cell_type": "code",
   "execution_count": 1,
   "metadata": {
    "collapsed": false,
    "deletable": true,
    "editable": true
   },
   "outputs": [
    {
     "name": "stderr",
     "output_type": "stream",
     "text": [
      "/usr/local/Cellar/pyenv/1.0.8/versions/3.6.0/envs/py36c/lib/python3.6/site-packages/ggplot/utils.py:81: FutureWarning: pandas.tslib is deprecated and will be removed in a future version.\n",
      "You can access Timestamp as pandas.Timestamp\n",
      "  pd.tslib.Timestamp,\n",
      "/usr/local/Cellar/pyenv/1.0.8/versions/3.6.0/envs/py36c/lib/python3.6/site-packages/ggplot/stats/smoothers.py:4: FutureWarning: The pandas.lib module is deprecated and will be removed in a future version. These are private functions and can be accessed from pandas._libs.lib instead\n",
      "  from pandas.lib import Timestamp\n",
      "/usr/local/Cellar/pyenv/1.0.8/versions/3.6.0/envs/py36c/lib/python3.6/site-packages/statsmodels/compat/pandas.py:56: FutureWarning: The pandas.core.datetools module is deprecated and will be removed in a future version. Please use the pandas.tseries module instead.\n",
      "  from pandas.core import datetools\n"
     ]
    }
   ],
   "source": [
    "from ggplot import *"
   ]
  },
  {
   "cell_type": "code",
   "execution_count": 31,
   "metadata": {
    "collapsed": true,
    "deletable": true,
    "editable": true
   },
   "outputs": [],
   "source": [
    "import requests\n",
    "import pandas\n",
    "import json\n",
    "i2m_url = 'http://10.16.130.35:7000'\n",
    "i2m_url = 'http://172.30.31.53:7000'\n",
    "\n",
    "m_url = 'http://10.16.141.57:8000'"
   ]
  },
  {
   "cell_type": "code",
   "execution_count": 45,
   "metadata": {
    "collapsed": true,
    "deletable": true,
    "editable": true
   },
   "outputs": [],
   "source": [
    "message = {\n",
    "        'to-return': ['tmy', 'growth-rate'],\n",
    "        'objectives': ['chebi:17579'],\n",
    "        'reactions-add': [{'id': 'MagicCarrot', 'string': 'glc__D_c <=> caro_c'}]\n",
    "    }\n",
    "response = requests.post(m_url + '/models/iJO1366', json={'message': message})"
   ]
  },
  {
   "cell_type": "code",
   "execution_count": 46,
   "metadata": {
    "collapsed": true,
    "deletable": true,
    "editable": true
   },
   "outputs": [],
   "source": [
    "tmy = response.json()"
   ]
  },
  {
   "cell_type": "code",
   "execution_count": 51,
   "metadata": {
    "collapsed": false,
    "deletable": true,
    "editable": true
   },
   "outputs": [
    {
     "data": {
      "text/plain": [
       "0.0010526315789576302"
      ]
     },
     "execution_count": 51,
     "metadata": {},
     "output_type": "execute_result"
    }
   ],
   "source": [
    "sum(tmy['tmy']['chebi:17579']['DM_caro_e']) - 97.62"
   ]
  },
  {
   "cell_type": "code",
   "execution_count": 28,
   "metadata": {
    "collapsed": true,
    "deletable": true,
    "editable": true
   },
   "outputs": [],
   "source": [
    "from cobra.io.dict import model_from_dict"
   ]
  },
  {
   "cell_type": "code",
   "execution_count": 3,
   "metadata": {
    "collapsed": true,
    "deletable": true,
    "editable": true
   },
   "outputs": [],
   "source": [
    "query = {\"ids\": [\"C00003\", \"C05413\", \"C05421\", \"C00448\", \"C05431\", \"C03427\", \"C00080\", \"C01504\", \"C16291\", \"C07720\", \"C00129\", \"C00013\", \"C02094\", \"C05434\", \"C05435\", \"C00004\", \"C00353\", \"C00007\", \"C05432\"], \"dbFrom\": \"kegg\", \"dbTo\": \"yeast7\", \"type\": \"Metabolite\"}\n"
   ]
  },
  {
   "cell_type": "code",
   "execution_count": 59,
   "metadata": {
    "collapsed": true,
    "deletable": true,
    "editable": true
   },
   "outputs": [],
   "source": [
    "query = {\"ids\": [\"16236\", \"12965\"], \"dbFrom\": \"chebi\", \"dbTo\": \"bigg\", \"type\": \"Metabolite\"}"
   ]
  },
  {
   "cell_type": "code",
   "execution_count": 68,
   "metadata": {
    "collapsed": true,
    "deletable": true,
    "editable": true
   },
   "outputs": [],
   "source": [
    "query = {\"ids\": [\"glc__D\"], \"dbFrom\": \"bigg\", \"dbTo\": \"chebi\", \"type\": \"Metabolite\"}"
   ]
  },
  {
   "cell_type": "code",
   "execution_count": 69,
   "metadata": {
    "collapsed": false,
    "deletable": true,
    "editable": true
   },
   "outputs": [
    {
     "name": "stdout",
     "output_type": "stream",
     "text": [
      "4.766398906707764\n"
     ]
    }
   ],
   "source": [
    "# query = {\"ids\": [\"MNXM153068\"], \"dbFrom\": \"mnx\", \"dbTo\": \"bigg\", \"type\": \"Metabolite\"}\n",
    "s = time.time()\n",
    "response = requests.post('https://api.dd-decaf.eu/idmapping/query', data=json.dumps(query))\n",
    "tjo = response.json()\n",
    "print(time.time() - s)"
   ]
  },
  {
   "cell_type": "code",
   "execution_count": 70,
   "metadata": {
    "collapsed": false,
    "deletable": true,
    "editable": true
   },
   "outputs": [
    {
     "data": {
      "text/plain": [
       "{'ids': {'glc__D': ['17634', '12965', '20999', '4167']}}"
      ]
     },
     "execution_count": 70,
     "metadata": {},
     "output_type": "execute_result"
    }
   ],
   "source": [
    "tjo"
   ]
  },
  {
   "cell_type": "code",
   "execution_count": 37,
   "metadata": {
    "collapsed": true,
    "deletable": true,
    "editable": true
   },
   "outputs": [],
   "source": [
    "import aiohttp\n",
    "import asyncio\n",
    "import time"
   ]
  },
  {
   "cell_type": "code",
   "execution_count": 33,
   "metadata": {
    "collapsed": true,
    "deletable": true,
    "editable": true
   },
   "outputs": [],
   "source": [
    "async def query_identifiers(query):\n",
    "    s = time.time()\n",
    "    async with aiohttp.ClientSession() as session:\n",
    "        async with session.post('https://api.dd-decaf.eu/idmapping/query', data=json.dumps(query)) as r:\n",
    "            assert r.status == 200, f'response status {r.status} from identifier service'\n",
    "            result = await r.json()\n",
    "            print(time.time() - s)\n",
    "            return result['ids']\n"
   ]
  },
  {
   "cell_type": "code",
   "execution_count": 49,
   "metadata": {
    "collapsed": false,
    "deletable": true,
    "editable": true
   },
   "outputs": [
    {
     "name": "stdout",
     "output_type": "stream",
     "text": [
      "1.540081262588501\n"
     ]
    },
    {
     "data": {
      "text/plain": [
       "({<Task finished coro=<query_identifiers() done, defined at <ipython-input-33-7e4ec05d63e6>:1> result={'C00003': ['s_1198', 's_1199', 's_1200', 's_1201', 's_1202', 's_2820'], 'C00004': ['s_1203', 's_1204', 's_1205', 's_1206', 's_2818'], 'C00007': ['s_1275', 's_1276', 's_1277', 's_1278', 's_1279', 's_2817'], 'C00013': ['s_0633', 's_0635', 's_0636', 's_0637', 's_0638', 's_2834', ...], ...}>},\n",
       " set())"
      ]
     },
     "execution_count": 49,
     "metadata": {},
     "output_type": "execute_result"
    }
   ],
   "source": [
    "loop = asyncio.get_event_loop()\n",
    "tasks = [asyncio.ensure_future(query_identifiers(query))]\n",
    "loop.run_until_complete(asyncio.wait(tasks))"
   ]
  },
  {
   "cell_type": "code",
   "execution_count": 256,
   "metadata": {
    "collapsed": false,
    "deletable": true,
    "editable": true
   },
   "outputs": [
    {
     "data": {
      "text/plain": [
       "{'MNXM117': ['s_1552', 's_1553']}"
      ]
     },
     "execution_count": 256,
     "metadata": {},
     "output_type": "execute_result"
    }
   ],
   "source": [
    "response = requests.post('https://api.dd-decaf.eu/idmapping/query',\n",
    "              data=json.dumps({\"ids\": [\"MNXM117\"], \"dbFrom\": \"mnx\", \"dbTo\": \"yeast7\", \n",
    "                               \"type\": \"Metabolite\"})).json()['ids']\n",
    "response"
   ]
  },
  {
   "cell_type": "code",
   "execution_count": 5,
   "metadata": {
    "collapsed": true,
    "deletable": true,
    "editable": true
   },
   "outputs": [],
   "source": [
    "payload = {'phaseId': 7, 'withFluxes': True, 'method': 'fba', 'modelId': 'iMM904', 'sampleIds': [33]}"
   ]
  },
  {
   "cell_type": "code",
   "execution_count": 54,
   "metadata": {
    "collapsed": true,
    "deletable": true,
    "editable": true
   },
   "outputs": [],
   "source": [
    "payload = {'phaseId': 7, 'withFluxes': True, 'method': 'pfba', 'modelId': 'iMM904', \n",
    "           'sampleIds': [25, 26, 27, 28, 29, 30]}"
   ]
  },
  {
   "cell_type": "code",
   "execution_count": 3,
   "metadata": {
    "collapsed": true,
    "deletable": true,
    "editable": true
   },
   "outputs": [],
   "source": [
    "payload = {'sampleIds': [88], 'phaseId': 21, 'modelId': 'ecYeast7'}"
   ]
  },
  {
   "cell_type": "code",
   "execution_count": 10,
   "metadata": {
    "collapsed": true,
    "deletable": true,
    "editable": true
   },
   "outputs": [],
   "source": [
    "payload = {'sampleIds': [5]}"
   ]
  },
  {
   "cell_type": "code",
   "execution_count": 394,
   "metadata": {
    "collapsed": true,
    "deletable": true,
    "editable": true
   },
   "outputs": [],
   "source": [
    "r = requests.post(m_url + '/models/ecYeast7', json={'message':{'to-return': ['model']}})\n",
    "gecko_m = model_from_dict(r.json()['model'])"
   ]
  },
  {
   "cell_type": "code",
   "execution_count": 22,
   "metadata": {
    "collapsed": false,
    "deletable": true,
    "editable": true
   },
   "outputs": [
    {
     "data": {
      "text/plain": [
       "{'response': [{'id': 5, 'name': 'harder'},\n",
       "  {'id': 28, 'name': 'ecoeth'},\n",
       "  {'id': 47, 'name': 'car'},\n",
       "  {'id': 57, 'name': 'foo'},\n",
       "  {'id': 58, 'name': 'nutrient-deficiency'},\n",
       "  {'id': 60, 'name': 'suffocate'}]}"
      ]
     },
     "execution_count": 22,
     "metadata": {},
     "output_type": "execute_result"
    }
   ],
   "source": [
    "requests.get(i2m_url + '/experiments', headers=header).json()"
   ]
  },
  {
   "cell_type": "code",
   "execution_count": 9,
   "metadata": {
    "collapsed": false,
    "deletable": true,
    "editable": true
   },
   "outputs": [
    {
     "data": {
      "text/plain": [
       "{'response': [{'id': [88], 'name': 'DSM4, reference', 'organism': 'SCE'}]}"
      ]
     },
     "execution_count": 9,
     "metadata": {},
     "output_type": "execute_result"
    }
   ],
   "source": [
    "requests.get(i2m_url + '/experiments/47/samples').json()"
   ]
  },
  {
   "cell_type": "code",
   "execution_count": 25,
   "metadata": {
    "collapsed": true,
    "deletable": true,
    "editable": true
   },
   "outputs": [],
   "source": [
    "r = requests.post(i2m_url + '/data-adjusted/model', json=payload, headers=header)"
   ]
  },
  {
   "cell_type": "code",
   "execution_count": 10,
   "metadata": {
    "collapsed": false,
    "deletable": true,
    "editable": true
   },
   "outputs": [
    {
     "data": {
      "text/plain": [
       "15.0"
      ]
     },
     "execution_count": 10,
     "metadata": {},
     "output_type": "execute_result"
    }
   ],
   "source": [
    "r.json()['response']['7']['fluxes']['ENO']"
   ]
  },
  {
   "cell_type": "code",
   "execution_count": 29,
   "metadata": {
    "collapsed": true,
    "deletable": true,
    "editable": true
   },
   "outputs": [],
   "source": [
    "m = model_from_dict(r.json()['response']['21']['model']) "
   ]
  },
  {
   "cell_type": "code",
   "execution_count": 8,
   "metadata": {
    "collapsed": false,
    "deletable": true,
    "editable": true
   },
   "outputs": [
    {
     "data": {
      "text/plain": [
       "<Response [404]>"
      ]
     },
     "execution_count": 8,
     "metadata": {},
     "output_type": "execute_result"
    }
   ],
   "source": [
    "requests.post(i2m_url + '/samples/info', json=payload)"
   ]
  },
  {
   "cell_type": "code",
   "execution_count": 523,
   "metadata": {
    "collapsed": false,
    "deletable": true,
    "editable": true
   },
   "outputs": [
    {
     "data": {
      "text/plain": [
       "{'response': ['iMM904', 'ecYeast7']}"
      ]
     },
     "execution_count": 523,
     "metadata": {},
     "output_type": "execute_result"
    }
   ],
   "source": [
    "requests.post(i2m_url + '/samples/model-options', json=payload).json()"
   ]
  },
  {
   "cell_type": "code",
   "execution_count": 553,
   "metadata": {
    "collapsed": false,
    "deletable": true,
    "editable": true
   },
   "outputs": [
    {
     "name": "stdout",
     "output_type": "stream",
     "text": [
      "CPU times: user 8.59 ms, sys: 3.68 ms, total: 12.3 ms\n",
      "Wall time: 1min 26s\n"
     ]
    }
   ],
   "source": [
    "%time tmylr = requests.post(i2m_url + '/data-adjusted/maximum-yield', json=payload)"
   ]
  },
  {
   "cell_type": "code",
   "execution_count": 557,
   "metadata": {
    "collapsed": false,
    "deletable": true,
    "editable": true
   },
   "outputs": [
    {
     "data": {
      "text/plain": [
       "{'objective': [0.0,\n",
       "  0.0,\n",
       "  0.0,\n",
       "  0.0,\n",
       "  0.0,\n",
       "  0.0,\n",
       "  0.0,\n",
       "  0.0,\n",
       "  0.0,\n",
       "  0.0,\n",
       "  0.0,\n",
       "  0.0,\n",
       "  0.0,\n",
       "  0.0,\n",
       "  0.0,\n",
       "  0.0,\n",
       "  0.0,\n",
       "  0.0,\n",
       "  0.0,\n",
       "  0.0],\n",
       " 'objectiveId': 'objective',\n",
       " 'objectiveLowerBound': [0.0,\n",
       "  0.0,\n",
       "  0.0,\n",
       "  0.0,\n",
       "  0.0,\n",
       "  0.0,\n",
       "  0.0,\n",
       "  0.0,\n",
       "  0.0,\n",
       "  0.0,\n",
       "  0.0,\n",
       "  0.0,\n",
       "  0.0,\n",
       "  0.0,\n",
       "  0.0,\n",
       "  0.0,\n",
       "  0.0,\n",
       "  0.0,\n",
       "  0.0,\n",
       "  0.0],\n",
       " 'objectiveUpperBound': [0.0,\n",
       "  0.0,\n",
       "  0.0,\n",
       "  0.0,\n",
       "  0.0,\n",
       "  0.0,\n",
       "  0.0,\n",
       "  0.0,\n",
       "  0.0,\n",
       "  0.0,\n",
       "  0.0,\n",
       "  0.0,\n",
       "  0.0,\n",
       "  0.0,\n",
       "  0.0,\n",
       "  0.0,\n",
       "  0.0,\n",
       "  0.0,\n",
       "  0.0,\n",
       "  0.0]}"
      ]
     },
     "execution_count": 557,
     "metadata": {},
     "output_type": "execute_result"
    }
   ],
   "source": [
    "tmylr.json()['response']['21']['metabolites']['beta-carotene']['phasePlanes']['wild']"
   ]
  },
  {
   "cell_type": "code",
   "execution_count": 499,
   "metadata": {
    "collapsed": true,
    "deletable": true,
    "editable": true
   },
   "outputs": [],
   "source": [
    "df = pandas.DataFrame(tmylr.json()['response']['21']['metabolites']['beta-carotene']['phasePlanes']['modified'])"
   ]
  },
  {
   "cell_type": "code",
   "execution_count": 501,
   "metadata": {
    "collapsed": false,
    "deletable": true,
    "editable": true
   },
   "outputs": [
    {
     "data": {
      "text/html": [
       "<div>\n",
       "<style>\n",
       "    .dataframe thead tr:only-child th {\n",
       "        text-align: right;\n",
       "    }\n",
       "\n",
       "    .dataframe thead th {\n",
       "        text-align: left;\n",
       "    }\n",
       "\n",
       "    .dataframe tbody tr th {\n",
       "        vertical-align: top;\n",
       "    }\n",
       "</style>\n",
       "<table border=\"1\" class=\"dataframe\">\n",
       "  <thead>\n",
       "    <tr style=\"text-align: right;\">\n",
       "      <th></th>\n",
       "      <th>objective</th>\n",
       "      <th>objectiveId</th>\n",
       "      <th>objectiveLowerBound</th>\n",
       "      <th>objectiveUpperBound</th>\n",
       "    </tr>\n",
       "  </thead>\n",
       "  <tbody>\n",
       "    <tr>\n",
       "      <th>0</th>\n",
       "      <td>0.000000</td>\n",
       "      <td>DM_MNXM614_e</td>\n",
       "      <td>0.000000e+00</td>\n",
       "      <td>0.370747</td>\n",
       "    </tr>\n",
       "    <tr>\n",
       "      <th>1</th>\n",
       "      <td>0.000853</td>\n",
       "      <td>DM_MNXM614_e</td>\n",
       "      <td>-5.640199e-17</td>\n",
       "      <td>0.355669</td>\n",
       "    </tr>\n",
       "    <tr>\n",
       "      <th>2</th>\n",
       "      <td>0.001705</td>\n",
       "      <td>DM_MNXM614_e</td>\n",
       "      <td>4.253435e-17</td>\n",
       "      <td>0.340582</td>\n",
       "    </tr>\n",
       "    <tr>\n",
       "      <th>3</th>\n",
       "      <td>0.002558</td>\n",
       "      <td>DM_MNXM614_e</td>\n",
       "      <td>1.295272e-17</td>\n",
       "      <td>0.325521</td>\n",
       "    </tr>\n",
       "    <tr>\n",
       "      <th>4</th>\n",
       "      <td>0.003411</td>\n",
       "      <td>DM_MNXM614_e</td>\n",
       "      <td>4.751100e-17</td>\n",
       "      <td>0.310460</td>\n",
       "    </tr>\n",
       "  </tbody>\n",
       "</table>\n",
       "</div>"
      ],
      "text/plain": [
       "   objective   objectiveId  objectiveLowerBound  objectiveUpperBound\n",
       "0   0.000000  DM_MNXM614_e         0.000000e+00             0.370747\n",
       "1   0.000853  DM_MNXM614_e        -5.640199e-17             0.355669\n",
       "2   0.001705  DM_MNXM614_e         4.253435e-17             0.340582\n",
       "3   0.002558  DM_MNXM614_e         1.295272e-17             0.325521\n",
       "4   0.003411  DM_MNXM614_e         4.751100e-17             0.310460"
      ]
     },
     "execution_count": 501,
     "metadata": {},
     "output_type": "execute_result"
    }
   ],
   "source": [
    "df.head()"
   ]
  },
  {
   "cell_type": "code",
   "execution_count": 502,
   "metadata": {
    "collapsed": false,
    "deletable": true,
    "editable": true
   },
   "outputs": [
    {
     "data": {
      "image/png": "[encoded data removed]",
      "text/plain": [
       "<matplotlib.figure.Figure at 0x146afbe48>"
      ]
     },
     "metadata": {},
     "output_type": "display_data"
    },
    {
     "data": {
      "text/plain": [
       "<ggplot: (-9223372036512220412)>"
      ]
     },
     "execution_count": 502,
     "metadata": {},
     "output_type": "execute_result"
    }
   ],
   "source": [
    "ggplot(aes('objective', 'objectiveUpperBound'), df) + geom_line()"
   ]
  },
  {
   "cell_type": "code",
   "execution_count": 546,
   "metadata": {
    "collapsed": true,
    "deletable": true,
    "editable": true
   },
   "outputs": [],
   "source": [
    "from cameo import phenotypic_phase_plane"
   ]
  },
  {
   "cell_type": "code",
   "execution_count": 547,
   "metadata": {
    "collapsed": false,
    "deletable": true,
    "editable": true
   },
   "outputs": [
    {
     "data": {
      "text/plain": [
       "(1.0, 1.0)"
      ]
     },
     "execution_count": 547,
     "metadata": {},
     "output_type": "execute_result"
    }
   ],
   "source": [
    "m.reactions.r_1714_REV.bounds"
   ]
  },
  {
   "cell_type": "code",
   "execution_count": 548,
   "metadata": {
    "collapsed": false,
    "deletable": true,
    "editable": true
   },
   "outputs": [
    {
     "data": {
      "text/plain": [
       "[(<Reaction r_1714_REV at 0x11c772d30>, -0.8920476610767872)]"
      ]
     },
     "execution_count": 548,
     "metadata": {},
     "output_type": "execute_result"
    }
   ],
   "source": [
    "from cobra.util import assert_optimal\n",
    "def n_carbon(reaction):\n",
    "    return sum(metabolite.elements.get('C', 0) for metabolite in reaction.metabolites)\n",
    "\n",
    "m.solver.optimize()\n",
    "assert_optimal(m)\n",
    "m.reactions.get_by_any(list(m.medium))\n",
    "f = [(reaction, reaction.flux * n_carbon(reaction) * -reaction.metabolites[list(reaction.metabolites)[0]]) \n",
    " for reaction in model_reactions]\n",
    "[(k, v) for k, v in f if v < 0]\n"
   ]
  },
  {
   "cell_type": "code",
   "execution_count": 549,
   "metadata": {
    "collapsed": false,
    "deletable": true,
    "editable": true
   },
   "outputs": [
    {
     "data": {
      "text/plain": [
       "<Metabolite s_0565_e at 0x1445055c0>"
      ]
     },
     "execution_count": 549,
     "metadata": {},
     "output_type": "execute_result"
    }
   ],
   "source": [
    "list(m.reactions.r_1714_REV.metabolites)[0]"
   ]
  },
  {
   "cell_type": "code",
   "execution_count": 560,
   "metadata": {
    "collapsed": false,
    "deletable": true,
    "editable": true
   },
   "outputs": [
    {
     "data": {
      "text/html": [
       "<div>\n",
       "<style>\n",
       "    .dataframe thead tr:only-child th {\n",
       "        text-align: right;\n",
       "    }\n",
       "\n",
       "    .dataframe thead th {\n",
       "        text-align: left;\n",
       "    }\n",
       "\n",
       "    .dataframe tbody tr th {\n",
       "        vertical-align: top;\n",
       "    }\n",
       "</style>\n",
       "<table border=\"1\" class=\"dataframe\">\n",
       "  <thead>\n",
       "    <tr style=\"text-align: right;\">\n",
       "      <th></th>\n",
       "      <th>r_2111</th>\n",
       "      <th>objective_lower_bound</th>\n",
       "      <th>objective_upper_bound</th>\n",
       "      <th>c_yield_lower_bound</th>\n",
       "      <th>c_yield_upper_bound</th>\n",
       "      <th>mass_yield_lower_bound</th>\n",
       "      <th>mass_yield_upper_bound</th>\n",
       "    </tr>\n",
       "  </thead>\n",
       "  <tbody>\n",
       "    <tr>\n",
       "      <th>0</th>\n",
       "      <td>0.000000</td>\n",
       "      <td>0.0</td>\n",
       "      <td>1.620091e-02</td>\n",
       "      <td>0</td>\n",
       "      <td>0</td>\n",
       "      <td>-0.0</td>\n",
       "      <td>-8.529752e-02</td>\n",
       "    </tr>\n",
       "    <tr>\n",
       "      <th>1</th>\n",
       "      <td>0.019502</td>\n",
       "      <td>0.0</td>\n",
       "      <td>1.552603e-02</td>\n",
       "      <td>0</td>\n",
       "      <td>0</td>\n",
       "      <td>-0.0</td>\n",
       "      <td>-3.103672e-02</td>\n",
       "    </tr>\n",
       "    <tr>\n",
       "      <th>2</th>\n",
       "      <td>0.039004</td>\n",
       "      <td>0.0</td>\n",
       "      <td>1.485116e-02</td>\n",
       "      <td>0</td>\n",
       "      <td>0</td>\n",
       "      <td>-0.0</td>\n",
       "      <td>-1.832209e-02</td>\n",
       "    </tr>\n",
       "    <tr>\n",
       "      <th>3</th>\n",
       "      <td>0.058507</td>\n",
       "      <td>0.0</td>\n",
       "      <td>1.417628e-02</td>\n",
       "      <td>0</td>\n",
       "      <td>0</td>\n",
       "      <td>-0.0</td>\n",
       "      <td>-1.264753e-02</td>\n",
       "    </tr>\n",
       "    <tr>\n",
       "      <th>4</th>\n",
       "      <td>0.078009</td>\n",
       "      <td>0.0</td>\n",
       "      <td>1.350141e-02</td>\n",
       "      <td>0</td>\n",
       "      <td>0</td>\n",
       "      <td>-0.0</td>\n",
       "      <td>-9.433716e-03</td>\n",
       "    </tr>\n",
       "    <tr>\n",
       "      <th>5</th>\n",
       "      <td>0.097511</td>\n",
       "      <td>0.0</td>\n",
       "      <td>1.282653e-02</td>\n",
       "      <td>0</td>\n",
       "      <td>0</td>\n",
       "      <td>-0.0</td>\n",
       "      <td>-7.365223e-03</td>\n",
       "    </tr>\n",
       "    <tr>\n",
       "      <th>6</th>\n",
       "      <td>0.117013</td>\n",
       "      <td>0.0</td>\n",
       "      <td>1.215166e-02</td>\n",
       "      <td>0</td>\n",
       "      <td>0</td>\n",
       "      <td>-0.0</td>\n",
       "      <td>-5.922402e-03</td>\n",
       "    </tr>\n",
       "    <tr>\n",
       "      <th>7</th>\n",
       "      <td>0.136515</td>\n",
       "      <td>0.0</td>\n",
       "      <td>1.147679e-02</td>\n",
       "      <td>0</td>\n",
       "      <td>0</td>\n",
       "      <td>-0.0</td>\n",
       "      <td>-4.858668e-03</td>\n",
       "    </tr>\n",
       "    <tr>\n",
       "      <th>8</th>\n",
       "      <td>0.156017</td>\n",
       "      <td>0.0</td>\n",
       "      <td>1.080191e-02</td>\n",
       "      <td>0</td>\n",
       "      <td>0</td>\n",
       "      <td>-0.0</td>\n",
       "      <td>-4.041967e-03</td>\n",
       "    </tr>\n",
       "    <tr>\n",
       "      <th>9</th>\n",
       "      <td>0.175520</td>\n",
       "      <td>0.0</td>\n",
       "      <td>1.012704e-02</td>\n",
       "      <td>0</td>\n",
       "      <td>0</td>\n",
       "      <td>-0.0</td>\n",
       "      <td>-3.395199e-03</td>\n",
       "    </tr>\n",
       "    <tr>\n",
       "      <th>10</th>\n",
       "      <td>0.195022</td>\n",
       "      <td>0.0</td>\n",
       "      <td>9.452164e-03</td>\n",
       "      <td>0</td>\n",
       "      <td>0</td>\n",
       "      <td>-0.0</td>\n",
       "      <td>-2.870324e-03</td>\n",
       "    </tr>\n",
       "    <tr>\n",
       "      <th>11</th>\n",
       "      <td>0.214524</td>\n",
       "      <td>0.0</td>\n",
       "      <td>8.586165e-03</td>\n",
       "      <td>0</td>\n",
       "      <td>0</td>\n",
       "      <td>-0.0</td>\n",
       "      <td>-2.558716e-03</td>\n",
       "    </tr>\n",
       "    <tr>\n",
       "      <th>12</th>\n",
       "      <td>0.234026</td>\n",
       "      <td>0.0</td>\n",
       "      <td>7.647985e-03</td>\n",
       "      <td>0</td>\n",
       "      <td>0</td>\n",
       "      <td>-0.0</td>\n",
       "      <td>-2.279134e-03</td>\n",
       "    </tr>\n",
       "    <tr>\n",
       "      <th>13</th>\n",
       "      <td>0.253528</td>\n",
       "      <td>0.0</td>\n",
       "      <td>6.627749e-03</td>\n",
       "      <td>0</td>\n",
       "      <td>0</td>\n",
       "      <td>-0.0</td>\n",
       "      <td>-1.975099e-03</td>\n",
       "    </tr>\n",
       "    <tr>\n",
       "      <th>14</th>\n",
       "      <td>0.273030</td>\n",
       "      <td>0.0</td>\n",
       "      <td>5.523132e-03</td>\n",
       "      <td>0</td>\n",
       "      <td>0</td>\n",
       "      <td>-0.0</td>\n",
       "      <td>-1.645918e-03</td>\n",
       "    </tr>\n",
       "    <tr>\n",
       "      <th>15</th>\n",
       "      <td>0.292533</td>\n",
       "      <td>0.0</td>\n",
       "      <td>4.418514e-03</td>\n",
       "      <td>0</td>\n",
       "      <td>0</td>\n",
       "      <td>-0.0</td>\n",
       "      <td>-1.316737e-03</td>\n",
       "    </tr>\n",
       "    <tr>\n",
       "      <th>16</th>\n",
       "      <td>0.312035</td>\n",
       "      <td>0.0</td>\n",
       "      <td>3.313896e-03</td>\n",
       "      <td>0</td>\n",
       "      <td>0</td>\n",
       "      <td>-0.0</td>\n",
       "      <td>-9.875560e-04</td>\n",
       "    </tr>\n",
       "    <tr>\n",
       "      <th>17</th>\n",
       "      <td>0.331537</td>\n",
       "      <td>0.0</td>\n",
       "      <td>2.209278e-03</td>\n",
       "      <td>0</td>\n",
       "      <td>0</td>\n",
       "      <td>-0.0</td>\n",
       "      <td>-6.583749e-04</td>\n",
       "    </tr>\n",
       "    <tr>\n",
       "      <th>18</th>\n",
       "      <td>0.351039</td>\n",
       "      <td>0.0</td>\n",
       "      <td>1.104661e-03</td>\n",
       "      <td>0</td>\n",
       "      <td>0</td>\n",
       "      <td>-0.0</td>\n",
       "      <td>-3.291939e-04</td>\n",
       "    </tr>\n",
       "    <tr>\n",
       "      <th>19</th>\n",
       "      <td>0.370541</td>\n",
       "      <td>0.0</td>\n",
       "      <td>-3.970701e-08</td>\n",
       "      <td>0</td>\n",
       "      <td>0</td>\n",
       "      <td>-0.0</td>\n",
       "      <td>1.183287e-08</td>\n",
       "    </tr>\n",
       "  </tbody>\n",
       "</table>\n",
       "</div>"
      ],
      "text/plain": [
       "      r_2111  objective_lower_bound  objective_upper_bound  \\\n",
       "0   0.000000                    0.0           1.620091e-02   \n",
       "1   0.019502                    0.0           1.552603e-02   \n",
       "2   0.039004                    0.0           1.485116e-02   \n",
       "3   0.058507                    0.0           1.417628e-02   \n",
       "4   0.078009                    0.0           1.350141e-02   \n",
       "5   0.097511                    0.0           1.282653e-02   \n",
       "6   0.117013                    0.0           1.215166e-02   \n",
       "7   0.136515                    0.0           1.147679e-02   \n",
       "8   0.156017                    0.0           1.080191e-02   \n",
       "9   0.175520                    0.0           1.012704e-02   \n",
       "10  0.195022                    0.0           9.452164e-03   \n",
       "11  0.214524                    0.0           8.586165e-03   \n",
       "12  0.234026                    0.0           7.647985e-03   \n",
       "13  0.253528                    0.0           6.627749e-03   \n",
       "14  0.273030                    0.0           5.523132e-03   \n",
       "15  0.292533                    0.0           4.418514e-03   \n",
       "16  0.312035                    0.0           3.313896e-03   \n",
       "17  0.331537                    0.0           2.209278e-03   \n",
       "18  0.351039                    0.0           1.104661e-03   \n",
       "19  0.370541                    0.0          -3.970701e-08   \n",
       "\n",
       "    c_yield_lower_bound  c_yield_upper_bound  mass_yield_lower_bound  \\\n",
       "0                     0                    0                    -0.0   \n",
       "1                     0                    0                    -0.0   \n",
       "2                     0                    0                    -0.0   \n",
       "3                     0                    0                    -0.0   \n",
       "4                     0                    0                    -0.0   \n",
       "5                     0                    0                    -0.0   \n",
       "6                     0                    0                    -0.0   \n",
       "7                     0                    0                    -0.0   \n",
       "8                     0                    0                    -0.0   \n",
       "9                     0                    0                    -0.0   \n",
       "10                    0                    0                    -0.0   \n",
       "11                    0                    0                    -0.0   \n",
       "12                    0                    0                    -0.0   \n",
       "13                    0                    0                    -0.0   \n",
       "14                    0                    0                    -0.0   \n",
       "15                    0                    0                    -0.0   \n",
       "16                    0                    0                    -0.0   \n",
       "17                    0                    0                    -0.0   \n",
       "18                    0                    0                    -0.0   \n",
       "19                    0                    0                    -0.0   \n",
       "\n",
       "    mass_yield_upper_bound  \n",
       "0            -8.529752e-02  \n",
       "1            -3.103672e-02  \n",
       "2            -1.832209e-02  \n",
       "3            -1.264753e-02  \n",
       "4            -9.433716e-03  \n",
       "5            -7.365223e-03  \n",
       "6            -5.922402e-03  \n",
       "7            -4.858668e-03  \n",
       "8            -4.041967e-03  \n",
       "9            -3.395199e-03  \n",
       "10           -2.870324e-03  \n",
       "11           -2.558716e-03  \n",
       "12           -2.279134e-03  \n",
       "13           -1.975099e-03  \n",
       "14           -1.645918e-03  \n",
       "15           -1.316737e-03  \n",
       "16           -9.875560e-04  \n",
       "17           -6.583749e-04  \n",
       "18           -3.291939e-04  \n",
       "19            1.183287e-08  "
      ]
     },
     "execution_count": 560,
     "metadata": {},
     "output_type": "execute_result"
    }
   ],
   "source": [
    "with m:\n",
    "    m.reactions.DM_MNXM614_e.bounds =   0, 100\n",
    "    m.reactions.r_1714_REV.bounds   = -10, 10\n",
    "    df = phenotypic_phase_plane(m, m.reactions.r_2111, objective=m.reactions.DM_MNXM614_e,\n",
    "                                source=m.reactions.r_1714_REV).data_frame\n",
    "df"
   ]
  },
  {
   "cell_type": "code",
   "execution_count": 559,
   "metadata": {
    "collapsed": false,
    "deletable": true,
    "editable": true
   },
   "outputs": [
    {
     "data": {
      "text/plain": [
       "{0: 0.016200905259018815,\n",
       " 1: 0.015526031108871156,\n",
       " 2: 0.014851156958723372,\n",
       " 3: 0.014176282808575863,\n",
       " 4: 0.013501408658428218,\n",
       " 5: 0.012826534466100669,\n",
       " 6: 0.012151660307516994,\n",
       " 7: 0.011476786148933415,\n",
       " 8: 0.010801911990349512,\n",
       " 9: 0.010127037831765934,\n",
       " 10: 0.0094521636731826446,\n",
       " 11: 0.0085861653434142794,\n",
       " 12: 0.0076479850055165954,\n",
       " 13: 0.0066277493453075868,\n",
       " 14: 0.005523131630346261,\n",
       " 15: 0.0044185139153851,\n",
       " 16: 0.0033138962004239402,\n",
       " 17: 0.0022092784854628607,\n",
       " 18: 0.0011046607705011229,\n",
       " 19: -3.9707012837453259e-08}"
      ]
     },
     "execution_count": 559,
     "metadata": {},
     "output_type": "execute_result"
    }
   ],
   "source": [
    "df.to_dict()['objective_upper_bound']"
   ]
  },
  {
   "cell_type": "markdown",
   "metadata": {
    "deletable": true,
    "editable": true
   },
   "source": [
    "## Gecko"
   ]
  },
  {
   "cell_type": "code",
   "execution_count": 112,
   "metadata": {
    "collapsed": true,
    "deletable": true,
    "editable": true
   },
   "outputs": [],
   "source": [
    "from cobra.io import read_sbml_model\n",
    "\n",
    "from cobra import Gene, Reaction, Metabolite"
   ]
  },
  {
   "cell_type": "code",
   "execution_count": 333,
   "metadata": {
    "collapsed": true,
    "deletable": true,
    "editable": true
   },
   "outputs": [],
   "source": [
    "def add_beta_carotene_pathway_yeast(model):\n",
    "    model = model.copy()\n",
    "    for m in model.metabolites:\n",
    "        m.charge = 0\n",
    "    crte = Gene(id=\"crte\")\n",
    "    crti = Gene(id=\"crti\")\n",
    "    crtyb = Gene(id=\"crtyb\")\n",
    "    model.genes.extend([crte, crti, crtyb])\n",
    "\n",
    "    phytoene_c = Metabolite(id='phytoene_c', formula='C40H64', compartment='c')\n",
    "    neurosporene_c = Metabolite(id='neurosporene_c', formula='C40H58',\n",
    "                              compartment='c')\n",
    "    lycopene_c = Metabolite(id='lycopene_c', formula='C40H56', compartment='c')\n",
    "    beta_carotene_c = Metabolite(id='beta_carotene_c', formula='C40H56',\n",
    "                               compartment='c')\n",
    "    dihydro_beta_carotene_c = Metabolite(id='dihydro_beta_carotene_c',\n",
    "                                       formula='C40H58',\n",
    "                                       compartment='c')\n",
    "\n",
    "    # 2 ggpp -> phytoene (c40h64) + 2pi? (crtYB) 2.5.1.32 max kcat: NA\n",
    "    ggpp_phytoene = Reaction(id='ggpp_phytoene')\n",
    "    ggpp_phytoene.add_metabolites(\n",
    "        {model.metabolites.s_0189_c: -2, phytoene_c: 1,\n",
    "         model.metabolites.s_0633_c: 2})\n",
    "\n",
    "    # phytoene -> neurosporene (c40h58) (crtI) 1.3.5.6 max kcat: NA\n",
    "    phytoene_neurosporene = Reaction(id='phytoene_neurosporene')\n",
    "    phytoene_neurosporene.add_metabolites(\n",
    "        {phytoene_c: -1, neurosporene_c: 1, model.metabolites.s_0794_c: 6})\n",
    "\n",
    "    # neurosporene -> lycopene (c40h56) (crtI) 1.3.99.28 max kcat: NA\n",
    "    neurosporene_lycopene = Reaction(id=\"neurosporene_lycopene\")\n",
    "    neurosporene_lycopene.add_metabolites(\n",
    "        {neurosporene_c: -1, lycopene_c: 1, model.metabolites.s_0794_c: 2})\n",
    "\n",
    "    # lycopene -> beta-carotene (crtYB) (c40h56) 5.5.1.19 max kcat: NA\n",
    "    lycopene_betacarotene = Reaction(id='lycopene_betacarotene')\n",
    "    lycopene_betacarotene.add_metabolites(\n",
    "        {lycopene_c: -1, beta_carotene_c: 1})\n",
    "\n",
    "    # lycopene -> beta-carotene (crtYB) (c40h56) 5.5.1.19 max kcat: NA\n",
    "    EX_betacarotene = Reaction(id='EX_betacarotene')\n",
    "    EX_betacarotene.add_metabolites(\n",
    "        {beta_carotene_c: -1})\n",
    "    EX_betacarotene.bounds = (0, 1000)\n",
    "\n",
    "    # neurosporene -> 7,8-dihydro-beta-carotene (crtYB) (c40h58) max kcat: NA\n",
    "    neurosporene_dihydrobetacarotene = Reaction(\n",
    "        id='neurosporene_dihydrobetacarotene')\n",
    "    neurosporene_dihydrobetacarotene.add_metabolites(\n",
    "        {neurosporene_c: -1, dihydro_beta_carotene_c: 1})\n",
    "\n",
    "    betacarotene_synthesis = [ggpp_phytoene, phytoene_neurosporene,\n",
    "                              neurosporene_lycopene,\n",
    "                              lycopene_betacarotene,\n",
    "                              neurosporene_dihydrobetacarotene]\n",
    "\n",
    "    assert all(\n",
    "        len(r.check_mass_balance()) == 0 for r in betacarotene_synthesis)\n",
    "    betacarotene_synthesis.append(EX_betacarotene)\n",
    "    model.add_reactions(betacarotene_synthesis)\n",
    "\n",
    "    model.reactions.ggpp_phytoene.gene_reaction_rule = 'crtyb'\n",
    "    model.reactions.phytoene_neurosporene.gene_reaction_rule = 'crti'\n",
    "    model.reactions.neurosporene_lycopene.gene_reaction_rule = 'crti'\n",
    "    model.reactions.lycopene_betacarotene.gene_reaction_rule = 'crtyb'\n",
    "    model.reactions.neurosporene_dihydrobetacarotene.gene_reaction_rule = 'crtyb'\n",
    "\n",
    "    return model"
   ]
  },
  {
   "cell_type": "code",
   "execution_count": 334,
   "metadata": {
    "collapsed": true,
    "deletable": true,
    "editable": true
   },
   "outputs": [],
   "source": [
    "gecko = read_sbml_model('/Users/henred/proj/model/model/data/ecYeast7.sbml.gz')"
   ]
  },
  {
   "cell_type": "code",
   "execution_count": 335,
   "metadata": {
    "collapsed": true,
    "deletable": true,
    "editable": true
   },
   "outputs": [],
   "source": [
    "bc_gecko = add_beta_carotene_pathway_yeast(gecko)"
   ]
  },
  {
   "cell_type": "code",
   "execution_count": 349,
   "metadata": {
    "collapsed": false,
    "deletable": true,
    "editable": true
   },
   "outputs": [
    {
     "data": {
      "text/plain": [
       "[('MNXM1480_e', 'indan-1-one'),\n",
       " ('MNXM1039_e', 'all-trans-zeta-carotene'),\n",
       " ('MNXM1480_c', 'indan-1-one'),\n",
       " ('MNXM24_e', 'AH2'),\n",
       " ('MNXM614_e', 'all-trans-beta-carotene'),\n",
       " ('MNXM6800_c', ''),\n",
       " ('MNXM557_e', '15-cis-phytoene'),\n",
       " ('MNXM2099_c', 'all-trans-phytofluene'),\n",
       " ('MNXM949_e', 'neurosporene'),\n",
       " ('MNXM949_c', 'neurosporene'),\n",
       " ('MNXM557_c', '15-cis-phytoene'),\n",
       " ('MNXM445_c', 'lycopene'),\n",
       " ('MNXM614_c', 'all-trans-beta-carotene'),\n",
       " ('MNXM445_e', 'lycopene'),\n",
       " ('MNXM10398_c', '7,8-Dihydro-beta-carotene'),\n",
       " ('MNXM1788_e', '(1R,2R,3R)-prephytoene diphosphate'),\n",
       " ('MNXM1910_e', 'all-trans-phytoene'),\n",
       " ('MNXM2099_e', 'all-trans-phytofluene'),\n",
       " ('MNXM35_e', 'A'),\n",
       " ('MNXM1048_e', 'gamma-carotene'),\n",
       " ('MNXM1048_c', 'gamma-carotene'),\n",
       " ('MNXM1910_c', 'all-trans-phytoene'),\n",
       " ('MNXM6800_e', ''),\n",
       " ('MNXM3549_e', 'beta-zeacarotene'),\n",
       " ('MNXM1039_c', 'all-trans-zeta-carotene'),\n",
       " ('MNXM1788_c', '(1R,2R,3R)-prephytoene diphosphate'),\n",
       " ('MNXM24_c', 'AH2'),\n",
       " ('MNXM35_c', 'A'),\n",
       " ('MNXM10398_e', '7,8-Dihydro-beta-carotene'),\n",
       " ('MNXM3549_c', 'beta-zeacarotene')]"
      ]
     },
     "execution_count": 349,
     "metadata": {},
     "output_type": "execute_result"
    }
   ],
   "source": [
    "[(n['id'], n['name']) for n in m.notes['changes']['added']['metabolites']]"
   ]
  },
  {
   "cell_type": "code",
   "execution_count": 350,
   "metadata": {
    "collapsed": false,
    "deletable": true,
    "editable": true
   },
   "outputs": [
    {
     "data": {
      "text/plain": [
       "frozenset({<Reaction R04798 at 0x137e7e048>,\n",
       "           <Reaction R09692 at 0x137e7e278>,\n",
       "           <Reaction R04787 at 0x137e7e358>,\n",
       "           <Reaction adapter_MNXM35_c_MNXM35_e at 0x137e7e198>,\n",
       "           <Reaction R04800 at 0x137e7e3c8>})"
      ]
     },
     "execution_count": 350,
     "metadata": {},
     "output_type": "execute_result"
    }
   ],
   "source": [
    "m.metabolites.MNXM35_c.reactions"
   ]
  },
  {
   "cell_type": "code",
   "execution_count": 353,
   "metadata": {
    "collapsed": false,
    "deletable": true,
    "editable": true
   },
   "outputs": [
    {
     "data": {
      "text/plain": [
       "'MNXM24_c + MNXM949_c + s_1275_c <=> MNXM35_c + MNXM445_c + 2.0 s_0803_c'"
      ]
     },
     "execution_count": 353,
     "metadata": {},
     "output_type": "execute_result"
    }
   ],
   "source": [
    "m.reactions.R04800.build_reaction_string(use_metabolite_names=False)"
   ]
  },
  {
   "cell_type": "code",
   "execution_count": 354,
   "metadata": {
    "collapsed": false,
    "deletable": true,
    "editable": true
   },
   "outputs": [
    {
     "data": {
      "text/plain": [
       "'AH2 + neurosporene + oxygen <=> A + lycopene + 2.0 H2O'"
      ]
     },
     "execution_count": 354,
     "metadata": {},
     "output_type": "execute_result"
    }
   ],
   "source": [
    "m.reactions.R04800.build_reaction_string(use_metabolite_names=True)"
   ]
  },
  {
   "cell_type": "code",
   "execution_count": 445,
   "metadata": {
    "collapsed": false,
    "deletable": true,
    "editable": true
   },
   "outputs": [
    {
     "name": "stdout",
     "output_type": "stream",
     "text": [
      "IN FLUXES              OUT FLUXES         OBJECTIVES\n",
      "---------------------  -----------------  --------------\n",
      "s_1277_e     2.51      s_0450_c   0.0967  r_2111  0.0967\n",
      "s_0565_e     1         MNXM614_e  0.0007\n",
      "s_0420_e     0.464\n",
      "prot_pool_c  0.0854\n",
      "s_1324_e     0.0767\n",
      "s_1468_e     0.00656\n",
      "s_0925_e     9.67e-08\n",
      "IN FLUXES             OUT FLUXES        OBJECTIVES\n",
      "--------------------  ----------------  --------------\n",
      "s_1277_e     2.52     s_0450_c  0.0974  r_2111  0.0974\n",
      "s_0565_e     1\n",
      "s_0420_e     0.467\n",
      "s_1324_e     0.0773\n",
      "prot_pool_c  0.0286\n",
      "s_1468_e     0.00661\n",
      "IN FLUXES              OUT FLUXES        OBJECTIVES\n",
      "---------------------  ----------------  --------------\n",
      "s_1277_e     2.52      s_0450_c  0.0974  r_2111  0.0974\n",
      "s_0565_e     1\n",
      "s_0420_e     0.467\n",
      "prot_pool_c  0.0854\n",
      "s_1324_e     0.0773\n",
      "s_1468_e     0.00661\n",
      "s_0925_e     9.74e-08\n"
     ]
    }
   ],
   "source": [
    "with m:\n",
    "    m.optimize()\n",
    "    m.summary()\n",
    "\n",
    "with bc_gecko:\n",
    "    bc_gecko.optimize()\n",
    "    bc_gecko.summary()\n",
    "\n",
    "with gecko:\n",
    "    gecko.optimize()\n",
    "    gecko.summary()\n"
   ]
  },
  {
   "cell_type": "code",
   "execution_count": 601,
   "metadata": {
    "collapsed": true,
    "deletable": true,
    "editable": true
   },
   "outputs": [],
   "source": [
    "r = requests.post(m_url + '/models/iJO1366', \n",
    "                  json={'message':{'to-return': ['model', 'fluxes'], 'simulation-method':'pfba-fva', \n",
    "                                   'map': 'Central metabolism'}})"
   ]
  },
  {
   "cell_type": "code",
   "execution_count": 602,
   "metadata": {
    "collapsed": true,
    "deletable": true,
    "editable": true
   },
   "outputs": [],
   "source": [
    "for i in range(5):\n",
    "    r = requests.post(m_url + '/models/iJO1366', \n",
    "                      json={'message':{'to-return': ['model', 'fluxes'], 'simulation-method':'pfba', \n",
    "                                       'map': 'Central metabolism'}})"
   ]
  },
  {
   "cell_type": "code",
   "execution_count": 585,
   "metadata": {
    "collapsed": false,
    "deletable": true,
    "editable": true
   },
   "outputs": [
    {
     "name": "stdout",
     "output_type": "stream",
     "text": [
      "False\n",
      "True\n",
      "True\n",
      "True\n",
      "True\n",
      "True\n",
      "True\n",
      "True\n",
      "False\n",
      "True\n",
      "True\n",
      "True\n",
      "True\n",
      "True\n",
      "True\n",
      "True\n",
      "True\n",
      "False\n",
      "True\n",
      "True\n"
     ]
    }
   ],
   "source": [
    "for i in range(20):\n",
    "    sleep(1)\n",
    "    r = requests.post('http://web-1.model-test.61cedb8c.cont.dockerapp.io:32788' + '/models/iJO1366', \n",
    "                      json={'message':{'to-return': ['model', 'fluxes'], 'simulation-method':'pfba', \n",
    "                                       'map': 'Central metabolism'}})\n",
    "    print(r.ok)"
   ]
  }
 ],
 "metadata": {
  "kernelspec": {
   "display_name": "Python 3",
   "language": "python",
   "name": "python3"
  },
  "language_info": {
   "codemirror_mode": {
    "name": "ipython",
    "version": 3
   },
   "file_extension": ".py",
   "mimetype": "text/x-python",
   "name": "python",
   "nbconvert_exporter": "python",
   "pygments_lexer": "ipython3",
   "version": "3.5.2"
  }
 },
 "nbformat": 4,
 "nbformat_minor": 2
}
